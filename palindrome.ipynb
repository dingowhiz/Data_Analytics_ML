{
 "cells": [
  {
   "cell_type": "code",
   "execution_count": 35,
   "metadata": {},
   "outputs": [],
   "source": [
    "def is_palindrome(n):\n",
    " m=n\n",
    " temp=n\n",
    " rev=0\n",
    " while(n>0):\n",
    "    print('n =', n)\n",
    "    last_dig=n%10\n",
    "    rev=rev*10+last_dig\n",
    "    n=n//10\n",
    " if(temp==rev):\n",
    "    print(m,\" is a palindrome!\")\n",
    " else:\n",
    "    print(m, \"is NOT a palindrome!\")"
   ]
  },
  {
   "cell_type": "code",
   "execution_count": 36,
   "metadata": {},
   "outputs": [
    {
     "name": "stdout",
     "output_type": "stream",
     "text": [
      "n = 12364321\n",
      "n = 1236432\n",
      "n = 123643\n",
      "n = 12364\n",
      "n = 1236\n",
      "n = 123\n",
      "n = 12\n",
      "n = 1\n",
      "12364321 is NOT a palindrome!\n",
      "n = 22446764422\n",
      "n = 2244676442\n",
      "n = 224467644\n",
      "n = 22446764\n",
      "n = 2244676\n",
      "n = 224467\n",
      "n = 22446\n",
      "n = 2244\n",
      "n = 224\n",
      "n = 22\n",
      "n = 2\n",
      "22446764422  is a palindrome!\n"
     ]
    }
   ],
   "source": [
    "a = 12364321\n",
    "b = 22446764422\n",
    "is_palindrome(a)\n",
    "is_palindrome(b)"
   ]
  }
 ],
 "metadata": {
  "kernelspec": {
   "display_name": "Python 3.9.1 64-bit",
   "language": "python",
   "name": "python3"
  },
  "language_info": {
   "codemirror_mode": {
    "name": "ipython",
    "version": 3
   },
   "file_extension": ".py",
   "mimetype": "text/x-python",
   "name": "python",
   "nbconvert_exporter": "python",
   "pygments_lexer": "ipython3",
   "version": "3.9.1"
  },
  "orig_nbformat": 4,
  "vscode": {
   "interpreter": {
    "hash": "cf92aa13fedf815d5c8dd192b8d835913fde3e8bc926b2a0ad6cc74ef2ba3ca2"
   }
  }
 },
 "nbformat": 4,
 "nbformat_minor": 2
}
