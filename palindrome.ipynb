{
 "cells": [
  {
   "cell_type": "code",
   "execution_count": 3,
   "metadata": {},
   "outputs": [],
   "source": [
    "def is_palindrome(n):\n",
    " temp=n\n",
    " rev=0\n",
    " while(n>0):\n",
    "    \n",
    "    last_dig=n%10    #<-- get modulo/remainder\n",
    "    print('reverse num :',rev)\n",
    "    rev=rev*10+last_dig   #<-- set reverse number\n",
    "    \n",
    "    n=n//10   #<-- decrement n by getting numerator\n",
    "    print('n :', n)\n",
    " if(temp==rev):\n",
    "    print(temp,\" is a palindrome!\")\n",
    " else:\n",
    "    print(temp, \"is NOT a palindrome!\")"
   ]
  },
  {
   "cell_type": "code",
   "execution_count": 6,
   "metadata": {},
   "outputs": [
    {
     "name": "stdout",
     "output_type": "stream",
     "text": [
      "reverse num : 0\n",
      "n : 2244678909876442\n",
      "reverse num : 2\n",
      "n : 224467890987644\n",
      "reverse num : 22\n",
      "n : 22446789098764\n",
      "reverse num : 224\n",
      "n : 2244678909876\n",
      "reverse num : 2244\n",
      "n : 224467890987\n",
      "reverse num : 22446\n",
      "n : 22446789098\n",
      "reverse num : 224467\n",
      "n : 2244678909\n",
      "reverse num : 2244678\n",
      "n : 224467890\n",
      "reverse num : 22446789\n",
      "n : 22446789\n",
      "reverse num : 224467890\n",
      "n : 2244678\n",
      "reverse num : 2244678909\n",
      "n : 224467\n",
      "reverse num : 22446789098\n",
      "n : 22446\n",
      "reverse num : 224467890987\n",
      "n : 2244\n",
      "reverse num : 2244678909876\n",
      "n : 224\n",
      "reverse num : 22446789098764\n",
      "n : 22\n",
      "reverse num : 224467890987644\n",
      "n : 2\n",
      "reverse num : 2244678909876442\n",
      "n : 0\n",
      "22446789098764422  is a palindrome!\n"
     ]
    }
   ],
   "source": [
    "a = 12364321\n",
    "b = 22446789098764422\n",
    "#is_palindro)me(a)\n",
    "is_palindrome(b)"
   ]
  },
  {
   "cell_type": "code",
   "execution_count": 3,
   "metadata": {},
   "outputs": [
    {
     "name": "stdout",
     "output_type": "stream",
     "text": [
      "1\n",
      "3\n",
      "5\n",
      "15\n",
      "25\n"
     ]
    }
   ],
   "source": [
    "# find the factors of a number\n",
    "n = 75\n",
    "\n",
    "for i in range(1, n):\n",
    "    if n % i == 0:\n",
    "      print(i)\n",
    "      i +=1"
   ]
  },
  {
   "cell_type": "code",
   "execution_count": 15,
   "metadata": {},
   "outputs": [
    {
     "name": "stdout",
     "output_type": "stream",
     "text": [
      "1\n",
      "2\n",
      "3\n",
      "5\n",
      "8\n",
      "13\n",
      "21\n",
      "34\n",
      "55\n",
      "89\n"
     ]
    }
   ],
   "source": [
    "# find the first 10 fibonacci numbers\n",
    "n1= 0 \n",
    "n2= 1\n",
    "tot=0\n",
    "\n",
    "for i in range(10):\n",
    "    tot = n1+n2\n",
    "    n1=n2\n",
    "    n2=tot\n",
    "    print(tot)\n",
    "    i+=1"
   ]
  },
  {
   "cell_type": "code",
   "execution_count": 33,
   "metadata": {},
   "outputs": [
    {
     "name": "stdout",
     "output_type": "stream",
     "text": [
      "29 is prime number\n"
     ]
    }
   ],
   "source": [
    "# check prime\n",
    "x = int(29)\n",
    "result = True\n",
    "\n",
    "while (x > 1):\n",
    "    for i in range (2, x):\n",
    "        if (x % i) == 0:\n",
    "            result = True\n",
    "    break\n",
    "    \n",
    "if result:\n",
    "    print(x,'is prime number')\n",
    "else:\n",
    "    print(x,'is not a prime number')"
   ]
  },
  {
   "cell_type": "code",
   "execution_count": 13,
   "metadata": {},
   "outputs": [
    {
     "name": "stdout",
     "output_type": "stream",
     "text": [
      "[1, 2, 3, 4, 5, 6, 7, 8]\n",
      "[1, 2, 3, 4, 5, 6, 7, 8]\n"
     ]
    },
    {
     "data": {
      "text/plain": [
       "[1, 2, 3, 4, 5, 6, 7, 8]"
      ]
     },
     "execution_count": 13,
     "metadata": {},
     "output_type": "execute_result"
    }
   ],
   "source": [
    "a = [[1,2],[3,4]]\n",
    "b = [[5,6],[7,8]]\n",
    "x = a+b\n",
    "flatten_list1 = [element for sublist in x for element in sublist]\n",
    "print(flatten_list1)\n",
    "\n",
    "import itertools\n",
    "flatten_list2 = list(itertools.chain(*x))\n",
    "flatten_list2\n",
    "print(flatten_list2)\n",
    "\n",
    "import numpy as np\n",
    "flatten_list3 = list(np.concatenate(x). flat)\n",
    "flatten_list3"
   ]
  },
  {
   "cell_type": "code",
   "execution_count": 20,
   "metadata": {},
   "outputs": [
    {
     "name": "stdout",
     "output_type": "stream",
     "text": [
      "     *\n",
      "    ***\n",
      "   *****\n",
      "  *******\n",
      " *********\n",
      "     |\n"
     ]
    }
   ],
   "source": [
    "# draw a x'mas tree\n",
    "h=5\n",
    "cnt=1\n",
    "\n",
    "for i in range(h):\n",
    "    print((' '*(h-i))+('*'*cnt))\n",
    "    cnt+=2\n",
    "print((' '*h)+'|')\n",
    "    "
   ]
  },
  {
   "cell_type": "code",
   "execution_count": 2,
   "metadata": {},
   "outputs": [
    {
     "name": "stdout",
     "output_type": "stream",
     "text": [
      "Number of vowels in string: 5\n",
      "['i', 'e', 'i', 'e', 'e']\n"
     ]
    }
   ],
   "source": [
    "# Python program to find vowels in a string\n",
    "\n",
    "# take input\n",
    "string = 'String engineer'\n",
    "# to find the vowels\n",
    "vowels = [i for i in string if i in \"aeiouAEIOU\"]\n",
    "\n",
    "# print number of vowels in string\n",
    "print('Number of vowels in string:', len(vowels))\n",
    "# print all vowels in string\n",
    "print(vowels)"
   ]
  },
  {
   "cell_type": "code",
   "execution_count": 7,
   "metadata": {},
   "outputs": [
    {
     "data": {
      "text/plain": [
       "[4, 8]"
      ]
     },
     "execution_count": 7,
     "metadata": {},
     "output_type": "execute_result"
    }
   ],
   "source": [
    "#!py -3.9 -m pip install pipe\n",
    "\n",
    "#filter even numbers greater than 2 \n",
    "\n",
    "from pipe import groupby, select, where\n",
    "arr = (1, 2, 3, 4, 5)\n",
    "list(arr | where(lambda x: x%2 == 0) | select(lambda x: x*2))"
   ]
  },
  {
   "cell_type": "code",
   "execution_count": 19,
   "metadata": {},
   "outputs": [
    {
     "data": {
      "text/plain": [
       "'a'"
      ]
     },
     "execution_count": 19,
     "metadata": {},
     "output_type": "execute_result"
    }
   ],
   "source": [
    "l = 'abcd'\n",
    "\n",
    "# s1='a'\n",
    "# s2='d'\n",
    "# s1_idx=l.index(s1)\n",
    "# s2_idx=l.index(s2)\n",
    "# print(s1_idx)\n",
    "min(l)"
   ]
  },
  {
   "cell_type": "code",
   "execution_count": 11,
   "metadata": {},
   "outputs": [
    {
     "name": "stdout",
     "output_type": "stream",
     "text": [
      "('a', 'b', 'c')\n"
     ]
    }
   ],
   "source": [
    "from itertools import combinations\n",
    "\n",
    "lst = [\"a\" ,\"b\", \"c\"]\n",
    "lengthOfStrings = 3\n",
    "for i in combinations(lst, lengthOfStrings):\n",
    "  print(i)"
   ]
  },
  {
   "cell_type": "code",
   "execution_count": 18,
   "metadata": {},
   "outputs": [
    {
     "data": {
      "text/plain": [
       "[('A', 'B', 'C'),\n",
       " ('A', 'C', 'B'),\n",
       " ('B', 'A', 'C'),\n",
       " ('B', 'C', 'A'),\n",
       " ('C', 'A', 'B'),\n",
       " ('C', 'B', 'A')]"
      ]
     },
     "execution_count": 18,
     "metadata": {},
     "output_type": "execute_result"
    }
   ],
   "source": [
    "import itertools\n",
    "# s = \"bdd\"\n",
    "# s_l = list(s)\n",
    "# all_l = list(permutations([s_l]))\n",
    "# all_l\n",
    "s = 'ABC'\n",
    "    \n",
    "nums = list(s)\n",
    "p = list(itertools.permutations(nums))\n",
    "p"
   ]
  },
  {
   "cell_type": "code",
   "execution_count": null,
   "metadata": {},
   "outputs": [],
   "source": [
    "import math\n",
    "pi=math.pi\n",
    "def sin(x):\n",
    "    result =16*x*(pi-x)/(5*pi**2)-(4*(pi-x)*x)"
   ]
  },
  {
   "cell_type": "code",
   "execution_count": 2,
   "metadata": {},
   "outputs": [
    {
     "data": {
      "text/plain": [
       "array([[-5.  , -5.  , -5.  , ..., -5.  , -5.  , -5.  ],\n",
       "       [-4.99, -4.99, -4.99, ..., -4.99, -4.99, -4.99],\n",
       "       [-4.98, -4.98, -4.98, ..., -4.98, -4.98, -4.98],\n",
       "       ...,\n",
       "       [ 4.97,  4.97,  4.97, ...,  4.97,  4.97,  4.97],\n",
       "       [ 4.98,  4.98,  4.98, ...,  4.98,  4.98,  4.98],\n",
       "       [ 4.99,  4.99,  4.99, ...,  4.99,  4.99,  4.99]])"
      ]
     },
     "execution_count": 2,
     "metadata": {},
     "output_type": "execute_result"
    }
   ],
   "source": [
    "import numpy as np\n",
    "points = np.arange(-5, 5, 0.01)\n",
    "xs, ys = np.meshgrid(points, points)\n",
    "ys"
   ]
  },
  {
   "cell_type": "code",
   "execution_count": 3,
   "metadata": {},
   "outputs": [
    {
     "data": {
      "text/plain": [
       "array([[7.07106781, 7.06400028, 7.05693985, ..., 7.04988652, 7.05693985,\n",
       "        7.06400028],\n",
       "       [7.06400028, 7.05692568, 7.04985815, ..., 7.04279774, 7.04985815,\n",
       "        7.05692568],\n",
       "       [7.05693985, 7.04985815, 7.04278354, ..., 7.03571603, 7.04278354,\n",
       "        7.04985815],\n",
       "       ...,\n",
       "       [7.04988652, 7.04279774, 7.03571603, ..., 7.0286414 , 7.03571603,\n",
       "        7.04279774],\n",
       "       [7.05693985, 7.04985815, 7.04278354, ..., 7.03571603, 7.04278354,\n",
       "        7.04985815],\n",
       "       [7.06400028, 7.05692568, 7.04985815, ..., 7.04279774, 7.04985815,\n",
       "        7.05692568]])"
      ]
     },
     "execution_count": 3,
     "metadata": {},
     "output_type": "execute_result"
    }
   ],
   "source": [
    "z = np.sqrt(xs**2+ys**2)\n",
    "z"
   ]
  },
  {
   "cell_type": "code",
   "execution_count": 6,
   "metadata": {},
   "outputs": [
    {
     "data": {
      "text/plain": [
       "<matplotlib.colorbar.Colorbar at 0x20899fdbdf0>"
      ]
     },
     "execution_count": 6,
     "metadata": {},
     "output_type": "execute_result"
    },
    {
     "data": {
      "image/png": "[encoded data removed]",
      "text/plain": [
       "<Figure size 432x288 with 2 Axes>"
      ]
     },
     "metadata": {
      "needs_background": "light"
     },
     "output_type": "display_data"
    }
   ],
   "source": [
    "import matplotlib.pyplot as plt\n",
    "plt.title(\"image plot of $\\sqrt{x^2+y^2}$ for a grid of values\")\n",
    "plt.imshow(z, cmap=plt.cm.gray);plt.colorbar()"
   ]
  },
  {
   "cell_type": "code",
   "execution_count": null,
   "metadata": {},
   "outputs": [],
   "source": []
  }
 ],
 "metadata": {
  "kernelspec": {
   "display_name": "Python 3.9.1 64-bit",
   "language": "python",
   "name": "python3"
  },
  "language_info": {
   "codemirror_mode": {
    "name": "ipython",
    "version": 3
   },
   "file_extension": ".py",
   "mimetype": "text/x-python",
   "name": "python",
   "nbconvert_exporter": "python",
   "pygments_lexer": "ipython3",
   "version": "3.9.1"
  },
  "orig_nbformat": 4,
  "vscode": {
   "interpreter": {
    "hash": "cf92aa13fedf815d5c8dd192b8d835913fde3e8bc926b2a0ad6cc74ef2ba3ca2"
   }
  }
 },
 "nbformat": 4,
 "nbformat_minor": 2
}
